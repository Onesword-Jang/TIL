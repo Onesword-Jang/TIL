{
 "cells": [
  {
   "cell_type": "markdown",
   "id": "55378691",
   "metadata": {},
   "source": [
    "# t-SNE\n",
    "- 고차원 데이터를 저차원으로 변환하여 시각화\n",
    "- 유사성을 보존\n",
    "\n",
    "\n",
    "## 작동원리\n",
    "1. **고차원 공간에서의 유사성 계산**: 고차원 데이터 포인트 간의 유사성을 확률 분포로 계산.\n",
    "2. **저차원 공간에서의 유사성 계산**: 저차원 데이터 포인트 간의 유사성을 t-분포를 사용하여 계산.\n",
    "3. **KL 발산 최소화**: 고차원 공간과 저차원 공간 간의 유사성 분포 차이를 KL 발산(Kullback-Leibler divergence)을 통해 최소화.\n",
    "4. **반복적 최적화**: 저차원 공간에서의 데이터 포인트 위치를 반복적으로 조정하여 최적의 시각화.\n",
    "\n"
   ]
  },
  {
   "cell_type": "code",
   "execution_count": 1,
   "id": "df5c08f8",
   "metadata": {},
   "outputs": [],
   "source": [
    "# 데이터 로드\n",
    "from sklearn.datasets import fetch_openml\n",
    "import pandas as pd\n",
    "\n",
    "# MNIST 데이터셋 불러오기\n",
    "mnist = fetch_openml('mnist_784', version=1)\n",
    "\n",
    "# 데이터와 레이블 분리\n",
    "X = mnist.data\n",
    "y = mnist.target\n",
    "\n",
    "# 데이터 표준화\n",
    "from sklearn.preprocessing import StandardScaler\n",
    "\n",
    "# 데이터 표준화\n",
    "scaler = StandardScaler()\n",
    "X_scaled = scaler.fit_transform(X)"
   ]
  },
  {
   "cell_type": "code",
   "execution_count": null,
   "id": "f0b04981",
   "metadata": {},
   "outputs": [],
   "source": [
    "# t-SNE 수행\n",
    "from sklearn.manifold import TSNE\n",
    "import matplotlib.pyplot as plt\n",
    "import seaborn as sns\n",
    "\n",
    "# t-SNE 모델 생성\n",
    "# n_components=2는 TSNE 클래스의 매개변수로, 몇 차원으로 축소할 것인지 지정\n",
    "tsne = TSNE(n_components=2, random_state=42)\n",
    "\n",
    "# t-SNE 학습 및 변환\n",
    "X_tsne = tsne.fit_transform(X_scaled)\n",
    "\n",
    "# 변환된 데이터의 크기 확인\n",
    "print(X_tsne.shape)"
   ]
  },
  {
   "cell_type": "code",
   "execution_count": null,
   "id": "76743ed2",
   "metadata": {},
   "outputs": [],
   "source": [
    "# 시각화\n",
    "# 2차원 시각화\n",
    "plt.figure(figsize=(10, 7))\n",
    "# [:, 0]은 첫 번째 열에 해당하는 모든 값을 선택\n",
    "# legend=None은 데이터에 대한 범례가 그래프에 표시되지 않는다.\n",
    "sns.scatterplot(x=X_tsne[:, 0], y=X_tsne[:, 1], hue=y, palette='viridis', legend=None)\n",
    "plt.title('t-SNE of MNIST Dataset (2D)')\n",
    "plt.xlabel('t-SNE Component 1')\n",
    "plt.ylabel('t-SNE Component 2')\n",
    "plt.show()"
   ]
  },
  {
   "cell_type": "code",
   "execution_count": null,
   "id": "8aaaa1d8",
   "metadata": {},
   "outputs": [],
   "source": []
  },
  {
   "cell_type": "code",
   "execution_count": null,
   "id": "52acb585",
   "metadata": {},
   "outputs": [],
   "source": []
  }
 ],
 "metadata": {
  "kernelspec": {
   "display_name": "Jang",
   "language": "python",
   "name": "myenv"
  },
  "language_info": {
   "codemirror_mode": {
    "name": "ipython",
    "version": 3
   },
   "file_extension": ".py",
   "mimetype": "text/x-python",
   "name": "python",
   "nbconvert_exporter": "python",
   "pygments_lexer": "ipython3",
   "version": "3.12.6"
  }
 },
 "nbformat": 4,
 "nbformat_minor": 5
}
