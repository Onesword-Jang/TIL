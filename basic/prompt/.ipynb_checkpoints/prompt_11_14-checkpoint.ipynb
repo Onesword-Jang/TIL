{
 "cells": [
  {
   "cell_type": "markdown",
   "id": "f191b79b",
   "metadata": {},
   "source": [
    "# 수준별 학습반 (prompt engineering) 11/14\n",
    "\n",
    "## Prompt Development Cycle의 평가기준\n",
    "\n",
    "### 1. 사람이 평가하는 방법\n",
    "1) LMSys Chatbot Arena(https://chat.lmsys.org/)\n",
    " - 동일 질문에 대해 익명의 2개 모델의 답변 중 선택할 수 있는 싸이트 \n",
    " - 승/패/무 투표 이후에 모델명 공개\n",
    " - 각 모델에 대한 랭킹 존재\n",
    "\n",
    "### 2. LLM 모델이 평가하는 방법\n",
    "1) Model Based Evaluation\n",
    " - GPT-4 같은 Strong LLM을 통해 평가하는 방법\n",
    " - Pairwise Comparison: 답변 2개 중 결정하게 만든다.\n",
    " - Single Answer Grading: 답변에 점수를 매긴다.\n",
    " - Reference-Guided Grading: 예시 답변을 주고 점수를 매긴다.\n",
    "\n",
    "### 3. 코드로 평가하는 방법\n",
    "- 코드 로직을 통한 평가 방법\n",
    " 1) Accuracy, Precision, Recall 등\n",
    " 2) ROUGE: 요약 모델에 사용\n",
    " 3) BLUE: 기계 번역 자동 평가 방법\n",
    " 4) Exact Match, String Match\n",
    " \n",
    "### 4. 결론\n",
    "- 사람이 직접 평가하는 것이 가장 좋다.\n",
    "- 모델이 평가하는 방법도 충분히 사용 가능하다\n",
    "- 정량적인 평가와 정성적인 평가 모두 하는게 가장 이상적인 케이스\n",
    "\n",
    "## Prompt engineering의 기법들\n",
    "\n",
    "### 1. few shot\n",
    "- 참고 할 수 있는 정답 사례들을 Prompt에 추가하여 성능을 높이는 방법\n",
    "- 모델 사이즈가 어느정도 커야지 효과가 특출나다.\n",
    "- 사전 훈련 단계에서 언어 모델이 패턴을 인지하고 적응하는 능력이있다.\n",
    "- **In-Context Learning**이라고도 불림\n",
    "\n",
    "### 2. Chain-of-Thought\n",
    "- Few Shot에 추가로 문제 해결 과정(Reasoning)도 같이 Prompt에 추가하는 방식\n",
    "- CoT 응용 케이스\n",
    " 1. Self-Consistency: 여러 번의 다양한 CoT 과정을 거쳐 그 중 베스트를 선정\n",
    " 2. Generated Knowledge: 질문을 통해 상식을 끄집어내어 더 정확하게 대답하는 방법\n",
    " 3. Least-to-Most: 질문 A를 바로 물어보지 않고 질문 a, b로 쪼개서 물어보는 분할 정복 방법\n",
    " 4. Prompt Chaining: Prompt A의 Output A를 Prompt B에 사용하는 방법\n",
    " 5. ReAct: Reasoning 외에도 Action까지 추가하는 방법"
   ]
  }
 ],
 "metadata": {
  "kernelspec": {
   "display_name": "AI",
   "language": "python",
   "name": "ai"
  },
  "language_info": {
   "codemirror_mode": {
    "name": "ipython",
    "version": 3
   },
   "file_extension": ".py",
   "mimetype": "text/x-python",
   "name": "python",
   "nbconvert_exporter": "python",
   "pygments_lexer": "ipython3",
   "version": "3.9.20"
  }
 },
 "nbformat": 4,
 "nbformat_minor": 5
}
