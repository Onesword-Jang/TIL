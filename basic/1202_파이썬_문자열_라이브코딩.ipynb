{
 "cells": [
  {
   "cell_type": "markdown",
   "metadata": {},
   "source": [
    "# 기초"
   ]
  },
  {
   "cell_type": "markdown",
   "metadata": {},
   "source": [
    "## 문제 1\n",
    "주어진 문자열 s = \"abcdefghij\"에서 인덱스 2부터 5까지의 부분 문자열을 출력하세요."
   ]
  },
  {
   "cell_type": "code",
   "execution_count": 1,
   "metadata": {},
   "outputs": [
    {
     "name": "stdout",
     "output_type": "stream",
     "text": [
      "cdef\n"
     ]
    }
   ],
   "source": [
    "s = \"abcdefghij\"\n",
    "print(s[2:6])"
   ]
  },
  {
   "cell_type": "markdown",
   "metadata": {},
   "source": [
    "## 문제 2\n",
    "문자열 s = \"I love apples\"에서 \"apples\"를 \"bananas\"로 대체하여 출력하세요."
   ]
  },
  {
   "cell_type": "code",
   "execution_count": 2,
   "metadata": {},
   "outputs": [
    {
     "name": "stdout",
     "output_type": "stream",
     "text": [
      "I love bananas\n"
     ]
    }
   ],
   "source": [
    "s = \"I love apples\"\n",
    "print(s.replace('apples','bananas'))"
   ]
  },
  {
   "cell_type": "markdown",
   "metadata": {},
   "source": [
    "## 문제 3\n",
    "문자열 s = \"Find the index of the first 'e' character\"에서 문자 'e'가 처음으로 등장하는 위치의 인덱스를 출력하세요."
   ]
  },
  {
   "cell_type": "code",
   "execution_count": 4,
   "metadata": {},
   "outputs": [
    {
     "data": {
      "text/plain": [
       "28"
      ]
     },
     "execution_count": 4,
     "metadata": {},
     "output_type": "execute_result"
    }
   ],
   "source": [
    "s = \"Find the index of the first 'e' character\"\n",
    "\n",
    "s.index(\"'e'\")"
   ]
  },
  {
   "cell_type": "markdown",
   "metadata": {},
   "source": [
    "## 문제 4\n",
    "리스트 lst = ['Python', 'is', 'fun']를 하이픈(-)으로 구분된 하나의 문자열로 결합하여 출력하세요."
   ]
  },
  {
   "cell_type": "code",
   "execution_count": 6,
   "metadata": {},
   "outputs": [
    {
     "name": "stdout",
     "output_type": "stream",
     "text": [
      "Python-is-fun\n"
     ]
    }
   ],
   "source": [
    "lst = ['Python', 'is', 'fun']\n",
    "\n",
    "join_lst = '-'.join(lst)\n",
    "print(join_lst)"
   ]
  },
  {
   "cell_type": "markdown",
   "metadata": {},
   "source": [
    "## 문제 5\n",
    "문자열 s = \"1234567890\"에서 처음부터 3번째 문자까지와 마지막 3개의 문자를 연결하여 새로운 문자열을 출력하세요."
   ]
  },
  {
   "cell_type": "code",
   "execution_count": 18,
   "metadata": {},
   "outputs": [
    {
     "name": "stdout",
     "output_type": "stream",
     "text": [
      "123890\n"
     ]
    }
   ],
   "source": [
    "s = \"1234567890\"\n",
    "result1 = s[:3]\n",
    "result2 = s[-3:]\n",
    "\n",
    "result = result1 + result2\n",
    "print(result)"
   ]
  },
  {
   "cell_type": "code",
   "execution_count": 17,
   "metadata": {},
   "outputs": [
    {
     "name": "stdout",
     "output_type": "stream",
     "text": [
      "4567\n"
     ]
    }
   ],
   "source": [
    "print(s[-7:-3])"
   ]
  },
  {
   "cell_type": "markdown",
   "metadata": {},
   "source": [
    "## 문제 6\n",
    "문자열 s = \"Hello, World!\"에서 마지막 문자 '!'를 제외한 나머지 문자열을 출력하세요."
   ]
  },
  {
   "cell_type": "code",
   "execution_count": 21,
   "metadata": {},
   "outputs": [
    {
     "name": "stdout",
     "output_type": "stream",
     "text": [
      "Hello, World\n"
     ]
    },
    {
     "data": {
      "text/plain": [
       "'Hello, World'"
      ]
     },
     "execution_count": 21,
     "metadata": {},
     "output_type": "execute_result"
    }
   ],
   "source": [
    "s = \"Hello, World!\"\n",
    "result = s.replace('!',\"\")\n",
    "print(result)\n",
    "\n",
    "s[:-1]"
   ]
  },
  {
   "cell_type": "markdown",
   "metadata": {},
   "source": [
    "# 실습"
   ]
  },
  {
   "cell_type": "markdown",
   "metadata": {},
   "source": [
    "## 문제 1\n",
    "주어진 문자열 s = \"Hello, World!\"에서 쉼표(,) 뒤의 문자열만 출력하세요."
   ]
  },
  {
   "cell_type": "code",
   "execution_count": 30,
   "metadata": {},
   "outputs": [
    {
     "name": "stdout",
     "output_type": "stream",
     "text": [
      "World!\n"
     ]
    }
   ],
   "source": [
    "s = \"Hello, World!\"\n",
    "result = s.split(',')[1].strip()\n",
    "print(result)\n"
   ]
  },
  {
   "cell_type": "markdown",
   "metadata": {},
   "source": [
    "## 문제 2\n",
    "문자열 s = \"python programming\"에서 모든 단어의 첫 글자를 대문자로 변환하여 출력하세요."
   ]
  },
  {
   "cell_type": "code",
   "execution_count": null,
   "metadata": {},
   "outputs": [],
   "source": [
    "s = \"python programming\""
   ]
  },
  {
   "cell_type": "code",
   "execution_count": 32,
   "metadata": {},
   "outputs": [
    {
     "name": "stdout",
     "output_type": "stream",
     "text": [
      "is\n"
     ]
    }
   ],
   "source": [
    "str = 'My name is Hansgum'\n",
    "sort_str = str.split(\" \")[2].strip()\n",
    "print(sort_str)\n"
   ]
  },
  {
   "cell_type": "markdown",
   "metadata": {},
   "source": [
    "## 문제 3\n",
    "주어진 문자열 s = \"Python is fun\"에서 공백을 기준으로 단어들을 분리하여 리스트로 반환하세요."
   ]
  },
  {
   "cell_type": "code",
   "execution_count": 33,
   "metadata": {},
   "outputs": [
    {
     "name": "stdout",
     "output_type": "stream",
     "text": [
      "['Python', 'is', 'fun']\n"
     ]
    }
   ],
   "source": [
    "s = \"Python is fun\"\n",
    "result = s.split(\" \")\n",
    "print(result)"
   ]
  },
  {
   "cell_type": "markdown",
   "metadata": {},
   "source": [
    "## 문제 4\n",
    "주어진 문자열 s = \"Data Science\"를 거꾸로 뒤집어서 출력하세요."
   ]
  },
  {
   "cell_type": "code",
   "execution_count": 34,
   "metadata": {},
   "outputs": [
    {
     "name": "stdout",
     "output_type": "stream",
     "text": [
      "ecneicS ataD\n"
     ]
    }
   ],
   "source": [
    "s = \"Data Science\"\n",
    "result = s[::-1]\n",
    "print(result)"
   ]
  },
  {
   "cell_type": "markdown",
   "metadata": {},
   "source": [
    "## 문제 5\n",
    "문자열 s = \" OpenAI \"에서 양쪽 공백을 제거하고, 모든 문자를 대문자로 변환하여 출력하세요."
   ]
  },
  {
   "cell_type": "code",
   "execution_count": 37,
   "metadata": {},
   "outputs": [
    {
     "name": "stdout",
     "output_type": "stream",
     "text": [
      "openai\n"
     ]
    }
   ],
   "source": [
    "s = \"   OpenAI   \"\n",
    "result = s.upper().strip().swapcase()\n",
    "\n",
    "print(result)"
   ]
  },
  {
   "cell_type": "markdown",
   "metadata": {},
   "source": [
    "## 문제 6\n",
    "사용자에게 이메일 주소를 입력받아, 아이디 부분과 도메인 부분을 분리하여 출력하세요."
   ]
  },
  {
   "cell_type": "raw",
   "metadata": {},
   "source": [
    "입력 : \n",
    "\n",
    "이메일 주소를 입력하세요 : spartacodingAI@naver.com"
   ]
  },
  {
   "cell_type": "raw",
   "metadata": {},
   "source": [
    "출력 : \n",
    "\n",
    "아이디 : spartacodingAI\n",
    "도메인 : naver.com"
   ]
  },
  {
   "cell_type": "code",
   "execution_count": 41,
   "metadata": {},
   "outputs": [
    {
     "name": "stdout",
     "output_type": "stream",
     "text": [
      "아이디: spartacodingAI\n",
      "도메인: naver.com\n",
      "아이디: spartacodingAI\n",
      "도메인: naver.com\n"
     ]
    }
   ],
   "source": [
    "email = input('이메일 주소를 입력하세요.')\n",
    "\n",
    "email_split = email.split('@')\n",
    "print(f'아이디: {email_split[0]}')\n",
    "print(f'도메인: {email_split[1]}')\n",
    "\n",
    "\n",
    "username, domain = email.split('@')\n",
    "print(f'아이디: {username}')\n",
    "print(f'도메인: {domain}')"
   ]
  },
  {
   "cell_type": "markdown",
   "metadata": {},
   "source": [
    "## 문제 7\n",
    "문자열 s = \"abcdefg\"에서 인덱스가 홀수인 문자들만 출력하세요."
   ]
  },
  {
   "cell_type": "code",
   "execution_count": 46,
   "metadata": {},
   "outputs": [
    {
     "name": "stdout",
     "output_type": "stream",
     "text": [
      "aceg\n"
     ]
    }
   ],
   "source": [
    "s = \"abcdefg\"\n",
    "result = s[::2] # [1::2]\n",
    "print(result)"
   ]
  },
  {
   "cell_type": "markdown",
   "metadata": {},
   "source": [
    "# 심화\n",
    "반복문, 조건문 등 사용"
   ]
  },
  {
   "cell_type": "markdown",
   "metadata": {},
   "source": [
    "## 문제 1\n",
    "문자열 s = \"The quick brown fox\"에서 모음('a', 'e', 'i', 'o', 'u')을 모두 제거한 새로운 문자열을 출력하세요."
   ]
  },
  {
   "cell_type": "code",
   "execution_count": null,
   "metadata": {},
   "outputs": [],
   "source": []
  },
  {
   "cell_type": "markdown",
   "metadata": {},
   "source": [
    "## 문제 2 (digit 함수 사용)\n",
    "주어진 문자열 s = \"Hello123World456\"에서 문자열에 포함된 모든 숫자들을 추출하여 리스트로 만드세요."
   ]
  },
  {
   "cell_type": "code",
   "execution_count": null,
   "metadata": {},
   "outputs": [],
   "source": []
  },
  {
   "cell_type": "markdown",
   "metadata": {},
   "source": [
    "## 문제 3 (끝판왕)\n",
    "주어진 문자열 s = \"aaabbbcccaaa\"에서 각 문자와 그 연속된 개수를 출력하여 \"a3b3c3a3\" 형태의 새로운 문자열을 만드세요."
   ]
  },
  {
   "cell_type": "code",
   "execution_count": null,
   "metadata": {},
   "outputs": [],
   "source": []
  }
 ],
 "metadata": {
  "kernelspec": {
   "display_name": "study",
   "language": "python",
   "name": "study2"
  },
  "language_info": {
   "codemirror_mode": {
    "name": "ipython",
    "version": 3
   },
   "file_extension": ".py",
   "mimetype": "text/x-python",
   "name": "python",
   "nbconvert_exporter": "python",
   "pygments_lexer": "ipython3",
   "version": "3.12.6"
  }
 },
 "nbformat": 4,
 "nbformat_minor": 2
}
