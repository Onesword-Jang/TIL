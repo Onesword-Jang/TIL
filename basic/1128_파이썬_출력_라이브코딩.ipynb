{
 "cells": [
  {
   "cell_type": "markdown",
   "metadata": {},
   "source": [
    "## 문제 1\n",
    "화면에 Hello World 문자열을 출력하세요."
   ]
  },
  {
   "cell_type": "code",
   "execution_count": 1,
   "metadata": {},
   "outputs": [
    {
     "name": "stdout",
     "output_type": "stream",
     "text": [
      "Hello World!\n"
     ]
    }
   ],
   "source": [
    "print(\"Hello World!\")"
   ]
  },
  {
   "cell_type": "markdown",
   "metadata": {},
   "source": [
    "## 문제 2\n",
    "화면에 MR'S JUNSEOK을 출력하세요."
   ]
  },
  {
   "cell_type": "code",
   "execution_count": 2,
   "metadata": {},
   "outputs": [
    {
     "name": "stdout",
     "output_type": "stream",
     "text": [
      "MR'S JUNSEOK\n"
     ]
    }
   ],
   "source": [
    "print(\"MR'S JUNSEOK\")"
   ]
  },
  {
   "cell_type": "markdown",
   "metadata": {
    "vscode": {
     "languageId": "plaintext"
    }
   },
   "source": [
    "## 문제 3\n",
    "변수 name과 age를 사용하여 다음과 같이 출력하는 코드를 작성하세요."
   ]
  },
  {
   "cell_type": "raw",
   "metadata": {
    "vscode": {
     "languageId": "raw"
    }
   },
   "source": [
    "출력 예시 : \n",
    "\n",
    "천준석님의 나이는 30살입니다."
   ]
  },
  {
   "cell_type": "code",
   "execution_count": 3,
   "metadata": {},
   "outputs": [],
   "source": [
    "name = \"천준석\"\n",
    "age = 30"
   ]
  },
  {
   "cell_type": "code",
   "execution_count": 6,
   "metadata": {},
   "outputs": [
    {
     "name": "stdout",
     "output_type": "stream",
     "text": [
      "천준석님의 나이는 30살입니다.\n",
      "천준석님의 나이는30입니다.\n",
      "천준석님의 나이는 30살입니다.\n"
     ]
    }
   ],
   "source": [
    "print(f\"{name}님의 나이는 {age}살입니다.\") # f스트링\n",
    "print(\"{}님의 나이는{}입니다.\".format(name,age)) # 포맷팅\n",
    "print(\"%s님의 나이는 %s살입니다.\"%(name,age)) #서식 지정자"
   ]
  },
  {
   "cell_type": "markdown",
   "metadata": {},
   "source": [
    "## 문제 4\n",
    "다음 코드의 출력 결과를 예측해보세요."
   ]
  },
  {
   "cell_type": "raw",
   "metadata": {
    "vscode": {
     "languageId": "raw"
    }
   },
   "source": [
    "print(\"파이썬\", \"프로그래밍\", sep=\"★\")"
   ]
  },
  {
   "cell_type": "code",
   "execution_count": 8,
   "metadata": {},
   "outputs": [
    {
     "name": "stdout",
     "output_type": "stream",
     "text": [
      "파이썬 프로그래밍\n",
      " 끝! hello\n"
     ]
    }
   ],
   "source": [
    "print(\"파이썬\", \"프로그래밍\", end=\"\\n 끝! \")\n",
    "print(\"hello\")"
   ]
  },
  {
   "cell_type": "raw",
   "metadata": {
    "vscode": {
     "languageId": "raw"
    }
   },
   "source": [
    "print(\"파이썬\", \"프로그래밍\", end=\" 끝!\\n\")"
   ]
  },
  {
   "cell_type": "raw",
   "metadata": {
    "vscode": {
     "languageId": "raw"
    }
   },
   "source": [
    "print(\"파이썬\", \"프로그래밍\", sep=\"★\", end=\" 끝!\\n\")"
   ]
  },
  {
   "cell_type": "raw",
   "metadata": {
    "vscode": {
     "languageId": "raw"
    }
   },
   "source": [
    "print(\"A\", \"B\", \"C\", sep=\"\\n\", end=\"!\")"
   ]
  },
  {
   "cell_type": "markdown",
   "metadata": {},
   "source": [
    "## 문제 5\n",
    "다음 코드에서 오류가 발생합니다. 오류를 수정하여 숫자 15가 출력되도록 하세요."
   ]
  },
  {
   "cell_type": "code",
   "execution_count": 15,
   "metadata": {},
   "outputs": [
    {
     "name": "stdout",
     "output_type": "stream",
     "text": [
      "a + b =   15\n",
      "15\n",
      "a + b = 15\n"
     ]
    }
   ],
   "source": [
    "a = 10\n",
    "b = 5\n",
    "print(f\"a + b =   {a + b}\")\n",
    "print(a+b)\n",
    "print(\"a + b = {}\".format(a+b))"
   ]
  },
  {
   "cell_type": "markdown",
   "metadata": {},
   "source": [
    "## 문제 6\n",
    "사용자에게 이름과 취미를 입력받아 다음과 같이 출력하는 코드를 작성하세요."
   ]
  },
  {
   "cell_type": "raw",
   "metadata": {
    "vscode": {
     "languageId": "raw"
    }
   },
   "source": [
    "입력 예시 :\n",
    "\n",
    "이름을 입력하세요: 천준석\n",
    "취미를 입력하세요: 산책"
   ]
  },
  {
   "cell_type": "raw",
   "metadata": {
    "vscode": {
     "languageId": "raw"
    }
   },
   "source": [
    "출력 결과 :\n",
    "\n",
    "안녕하세요, 천준석님! 당신의 취미는 산책군요."
   ]
  },
  {
   "cell_type": "code",
   "execution_count": 20,
   "metadata": {},
   "outputs": [
    {
     "name": "stdout",
     "output_type": "stream",
     "text": [
      "이름을 입력하세요: 장한검\n",
      "취미를 입력하세요: 산책\n",
      "장한검님! 당신의 취미는 산책이군요.\n",
      "장한검님! 당신의 취미는 산책이군요.\n"
     ]
    }
   ],
   "source": [
    "user_name = input(\"이름을 입력하세요: \")\n",
    "hobby = input(\"취미를 입력하세요: \")\n",
    "\n",
    "print(f\"{user_name}님! 당신의 취미는 {hobby}이군요.\")\n",
    "print(\"{}님! 당신의 취미는 {}이군요.\".format(user_name, hobby))"
   ]
  },
  {
   "cell_type": "markdown",
   "metadata": {},
   "source": [
    "## 문제 7\n",
    "반지름을 입력받아 원의 넓이를 계산하여 출력하는 코드를 작성하세요. (원의 넓이 = π * r^2, π는 3.14159로 사용)"
   ]
  },
  {
   "cell_type": "raw",
   "metadata": {
    "vscode": {
     "languageId": "raw"
    }
   },
   "source": [
    "입력 예시 : \n",
    "\n",
    "원의 반지름을 입력하세요: 5"
   ]
  },
  {
   "cell_type": "raw",
   "metadata": {
    "vscode": {
     "languageId": "raw"
    }
   },
   "source": [
    "출력 결과 :\n",
    "\n",
    "원의 넓이는 78.53975입니다."
   ]
  },
  {
   "cell_type": "code",
   "execution_count": 41,
   "metadata": {},
   "outputs": [
    {
     "ename": "SyntaxError",
     "evalue": "invalid decimal literal (1837656394.py, line 4)",
     "output_type": "error",
     "traceback": [
      "\u001b[1;36m  Cell \u001b[1;32mIn[41], line 4\u001b[1;36m\u001b[0m\n\u001b[1;33m    print(f\"원의 넓이는 {pie*harf.2f}입니다.\")\u001b[0m\n\u001b[1;37m                             ^\u001b[0m\n\u001b[1;31mSyntaxError\u001b[0m\u001b[1;31m:\u001b[0m invalid decimal literal\n"
     ]
    }
   ],
   "source": [
    "pie = 3.14159\n",
    "circle_len = int(input(\"원의 지름을 입력하세요.\"))\n",
    "harf = circle_len**2\n",
    "print(f\"원의 넓이는 {pie * harf}입니다.\")"
   ]
  },
  {
   "cell_type": "markdown",
   "metadata": {},
   "source": [
    "## 문제 8\n",
    "두 정수를 입력받고, 두 정수를 더하고 빼고 곱하고 나누기를 출력하세요."
   ]
  },
  {
   "cell_type": "raw",
   "metadata": {
    "vscode": {
     "languageId": "raw"
    }
   },
   "source": [
    "입력 예시 : \n",
    "\n",
    "두 정수를 입력하세요 : 10 5"
   ]
  },
  {
   "cell_type": "raw",
   "metadata": {
    "vscode": {
     "languageId": "raw"
    }
   },
   "source": [
    "출력 결과 :\n",
    "\n",
    "10 + 5 = 15\n",
    "10 - 5 = 5\n",
    "10 * 5 = 50\n",
    "10 / 5 = 2"
   ]
  },
  {
   "cell_type": "code",
   "execution_count": 39,
   "metadata": {},
   "outputs": [
    {
     "name": "stdout",
     "output_type": "stream",
     "text": [
      "숫자 두개를 입력하세요.21 3\n",
      "21 + 3 = 24\n",
      "21 - 3 = 18\n",
      "21 * 3 = 63\n",
      "21 / 3 = 7.0\n"
     ]
    }
   ],
   "source": [
    "a, b = map(int,input(\"숫자 두개를 입력하세요.\").split())\n",
    "\n",
    "print(f'{a} + {b} = {a+b}')\n",
    "print(f'{a} - {b} = {a-b}')\n",
    "print(f'{a} * {b} = {a*b}')\n",
    "print(f'{a} / {b} = {a/b}')\n"
   ]
  },
  {
   "cell_type": "markdown",
   "metadata": {},
   "source": [
    "## 문제 9\n",
    "섭씨 온도를 입력받아 화씨 온도로 변환하여 출력하는 코드를 작성하세요. (화씨 = 섭씨 * 1.8 + 32)"
   ]
  },
  {
   "cell_type": "raw",
   "metadata": {
    "vscode": {
     "languageId": "raw"
    }
   },
   "source": [
    "입력 예시 : \n",
    "\n",
    "섭씨 온도를 입력하세요: 25"
   ]
  },
  {
   "cell_type": "raw",
   "metadata": {
    "vscode": {
     "languageId": "raw"
    }
   },
   "source": [
    "출력 결과 :\n",
    "\n",
    "화씨 온도는 77.0도입니다."
   ]
  },
  {
   "cell_type": "code",
   "execution_count": 44,
   "metadata": {},
   "outputs": [
    {
     "name": "stdout",
     "output_type": "stream",
     "text": [
      "섭씨 온도를 입력하세요: 123\n",
      "화씨 온도는 253.4입니다.\n"
     ]
    }
   ],
   "source": [
    "a = int(input('섭씨 온도를 입력하세요: '))\n",
    "result = a *1.8 +32\n",
    "print(f'화씨 온도는 {result}입니다.')"
   ]
  },
  {
   "cell_type": "markdown",
   "metadata": {},
   "source": [
    "## 문제 10\n",
    "'#'으로 구분된 4개의 문자열을 입력받고, 출력해보세요"
   ]
  },
  {
   "cell_type": "raw",
   "metadata": {
    "vscode": {
     "languageId": "raw"
    }
   },
   "source": [
    "입력 예시 : \n",
    "\n",
    "입력하세요 : apple#banana#watermelon#grape"
   ]
  },
  {
   "cell_type": "raw",
   "metadata": {
    "vscode": {
     "languageId": "raw"
    }
   },
   "source": [
    "출력 결과 :\n",
    "\n",
    "apple banana watermelon grape"
   ]
  },
  {
   "cell_type": "code",
   "execution_count": 52,
   "metadata": {},
   "outputs": [
    {
     "name": "stdout",
     "output_type": "stream",
     "text": [
      "4가지 과일을 적으세요apple banana watermelon grape\n"
     ]
    },
    {
     "ename": "TypeError",
     "evalue": "'map' object is not callable",
     "output_type": "error",
     "traceback": [
      "\u001b[1;31m---------------------------------------------------------------------------\u001b[0m",
      "\u001b[1;31mTypeError\u001b[0m                                 Traceback (most recent call last)",
      "Cell \u001b[1;32mIn[52], line 1\u001b[0m\n\u001b[1;32m----> 1\u001b[0m fruit_list \u001b[38;5;241m=\u001b[39m \u001b[38;5;28mlist\u001b[39m(\u001b[38;5;28minput\u001b[39m(\u001b[38;5;124m\"\u001b[39m\u001b[38;5;124m4가지 과일을 적으세요\u001b[39m\u001b[38;5;124m\"\u001b[39m)\u001b[38;5;241m.\u001b[39msplit(\u001b[38;5;124m'\u001b[39m\u001b[38;5;124m#\u001b[39m\u001b[38;5;124m'\u001b[39m))\n\u001b[0;32m      4\u001b[0m \u001b[38;5;28mprint\u001b[39m(fruit_list)\n",
      "\u001b[1;31mTypeError\u001b[0m: 'map' object is not callable"
     ]
    }
   ],
   "source": []
  },
  {
   "cell_type": "code",
   "execution_count": null,
   "metadata": {},
   "outputs": [],
   "source": [
    "re_list = list.replace('#',\" \")"
   ]
  }
 ],
 "metadata": {
  "kernelspec": {
   "display_name": "Python 3 (ipykernel)",
   "language": "python",
   "name": "python3"
  },
  "language_info": {
   "codemirror_mode": {
    "name": "ipython",
    "version": 3
   },
   "file_extension": ".py",
   "mimetype": "text/x-python",
   "name": "python",
   "nbconvert_exporter": "python",
   "pygments_lexer": "ipython3",
   "version": "3.12.4"
  }
 },
 "nbformat": 4,
 "nbformat_minor": 2
}
