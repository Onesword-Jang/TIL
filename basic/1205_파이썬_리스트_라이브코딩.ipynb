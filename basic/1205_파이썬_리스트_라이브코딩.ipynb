{
 "cells": [
  {
   "cell_type": "markdown",
   "metadata": {},
   "source": [
    "# 복습(입출력, 변수, 문자열)"
   ]
  },
  {
   "cell_type": "markdown",
   "metadata": {},
   "source": [
    "## 문제 1\n",
    "사용자로부터 이름과 나이를 입력받아 다음과 같은 형식으로 출력하는 프로그램을 작성하세요. (여기서 이름의 type은 str, 나이의 타입은 int 여야 합니다.)"
   ]
  },
  {
   "cell_type": "raw",
   "metadata": {
    "vscode": {
     "languageId": "raw"
    }
   },
   "source": [
    "입력 : \n",
    "\n",
    "이름을 입력하세요 : 홍길동\n",
    "나이를 입력하세요 : 30 \n",
    "\n",
    "\n",
    "출력 : \n",
    "\n",
    "이름은 홍길동입니다.\n",
    "나이는 30살입니다."
   ]
  },
  {
   "cell_type": "code",
   "execution_count": 3,
   "metadata": {},
   "outputs": [
    {
     "name": "stdout",
     "output_type": "stream",
     "text": [
      "<class 'str'> <class 'int'>\n",
      "이름은 장한검입니다.\n",
      "나이는 3살 입니다.\n"
     ]
    }
   ],
   "source": [
    "name = input('이름을 입력하세요')\n",
    "age = int(input('나이를 입력하세요'))\n",
    "\n",
    "print(type(name), type(age))\n",
    "print(f'이름은 {name}입니다.')\n",
    "print(f'나이는 {age}살 입니다.')"
   ]
  },
  {
   "cell_type": "markdown",
   "metadata": {},
   "source": [
    "## 문제 2\n",
    "문자열 변수 s = \"Hello, World!\"가 있습니다. 이 문자열에서 World만을 추출하여 출력하는 코드를 작성하세요. (슬라이싱 이용)"
   ]
  },
  {
   "cell_type": "code",
   "execution_count": 5,
   "metadata": {},
   "outputs": [
    {
     "name": "stdout",
     "output_type": "stream",
     "text": [
      "World\n"
     ]
    }
   ],
   "source": [
    "s = \"Hello, World!\"\n",
    "\n",
    "print(s[7:-1])"
   ]
  },
  {
   "cell_type": "markdown",
   "metadata": {},
   "source": [
    "## 문제 3\n",
    "사용자로부터 두 개의 숫자를 입력받아, 두 숫자의 합과 곱을 다음과 같은 형식으로 출력하는 프로그램을 작성하세요."
   ]
  },
  {
   "cell_type": "raw",
   "metadata": {},
   "source": [
    "입력 : \n",
    "\n",
    "두 수를 입력하세요 : 10 30\n",
    "\n",
    "\n",
    "출력 : \n",
    "\n",
    "두 숫자의 합은 40입니다.\n",
    "두 숫자의 곱은 300입니다."
   ]
  },
  {
   "cell_type": "code",
   "execution_count": 25,
   "metadata": {},
   "outputs": [
    {
     "name": "stdout",
     "output_type": "stream",
     "text": [
      "두 숫자의 합은 40입니다.\n",
      "두 숫자의 곱은 300입니다.\n"
     ]
    }
   ],
   "source": [
    "num_1, num_2 = map(int, input(\"숫자 두개를 입력하세요\").split())\n",
    "\n",
    "p_num = num_1 + num_2\n",
    "m_num = num_1 * num_2\n",
    "\n",
    "print(f'두 숫자의 합은 {p_num}입니다.')\n",
    "print(f'두 숫자의 곱은 {m_num}입니다.')"
   ]
  },
  {
   "cell_type": "markdown",
   "metadata": {},
   "source": [
    "## 문제 4\n",
    "문자열 s = \"Python Programming\"이 있습니다.  \n",
    "이 문자열을 공백을 기준으로 분리하여 두 개의 단어로 나누고, 각 단어를 서로 교환하여 다음과 같이 출력하는 프로그램을 작성하세요."
   ]
  },
  {
   "cell_type": "raw",
   "metadata": {
    "vscode": {
     "languageId": "raw"
    }
   },
   "source": [
    "출력 : \n",
    "\n",
    "Programming Python"
   ]
  },
  {
   "cell_type": "code",
   "execution_count": 23,
   "metadata": {},
   "outputs": [
    {
     "name": "stdout",
     "output_type": "stream",
     "text": [
      "Programming Python\n"
     ]
    }
   ],
   "source": [
    "s = \"Python Programming\"\n",
    "s1 = s.split(' ')\n",
    "print(s1[1],s1[0])"
   ]
  },
  {
   "cell_type": "markdown",
   "metadata": {},
   "source": [
    "## 문제 5\n",
    "사용자로부터 문자열을 입력받아, 해당 문자열의 역문자열을 출력하세요"
   ]
  },
  {
   "cell_type": "raw",
   "metadata": {
    "vscode": {
     "languageId": "raw"
    }
   },
   "source": [
    "입력 : \n",
    "\n",
    "문자열을 입력하세요 : apple\n",
    "\n",
    "출력 :\n",
    "\n",
    "apple의 역문자열은 elppa입니다."
   ]
  },
  {
   "cell_type": "code",
   "execution_count": 24,
   "metadata": {},
   "outputs": [
    {
     "name": "stdout",
     "output_type": "stream",
     "text": [
      "elppa\n"
     ]
    }
   ],
   "source": [
    "fruit = input('과이를 입력하세요')\n",
    "\n",
    "print(fruit[::-1])"
   ]
  },
  {
   "cell_type": "markdown",
   "metadata": {},
   "source": [
    "# 기초"
   ]
  },
  {
   "cell_type": "markdown",
   "metadata": {},
   "source": [
    "## 문제 1\n",
    "다음 코드의 출력 결과는 무엇인가요?"
   ]
  },
  {
   "cell_type": "raw",
   "metadata": {
    "vscode": {
     "languageId": "raw"
    }
   },
   "source": [
    "fruits = ['apple', 'banana', 'cherry', 'date']\n",
    "print(fruits[1], fruits[3])\n",
    "\n",
    "print(len(fruits))\n",
    "\n",
    "print(fruits[2], fruits[4])"
   ]
  },
  {
   "cell_type": "raw",
   "metadata": {
    "vscode": {
     "languageId": "raw"
    }
   },
   "source": [
    "'banan', 'date'\n",
    "4\n",
    "error"
   ]
  },
  {
   "cell_type": "markdown",
   "metadata": {},
   "source": [
    "## 문제 2\n",
    "다음 코드의 출력 결과는 무엇인가요?"
   ]
  },
  {
   "cell_type": "raw",
   "metadata": {
    "vscode": {
     "languageId": "raw"
    }
   },
   "source": [
    "my_list = [0, 1, 2, 3, 4, 5, 6]\n",
    "print(my_list[2:5])"
   ]
  },
  {
   "cell_type": "markdown",
   "metadata": {},
   "source": [
    "start:end:step -> start(포함), end(해당 인덱스 미포함)"
   ]
  },
  {
   "cell_type": "raw",
   "metadata": {
    "vscode": {
     "languageId": "raw"
    }
   },
   "source": []
  },
  {
   "cell_type": "markdown",
   "metadata": {},
   "source": [
    "## 문제 3\n",
    "리스트 fruits = ['apple', 'banana', 'cherry']가 있습니다.  \n",
    "이 리스트에 'date'를 추가하여 ['apple', 'banana', 'cherry', 'date']로 만드세요. 리스트 메서드 중 적절한 것을 사용하세요."
   ]
  },
  {
   "cell_type": "code",
   "execution_count": null,
   "metadata": {},
   "outputs": [
    {
     "name": "stdout",
     "output_type": "stream",
     "text": [
      "['apple', 'banana', 'cherry', 'date']\n"
     ]
    }
   ],
   "source": [
    "fruits =['apple', 'banana', 'cherry']\n",
    "\n",
    "fruits.append('date')\n",
    "\n",
    "print(fruits)\n",
    "\n"
   ]
  },
  {
   "cell_type": "markdown",
   "metadata": {},
   "source": [
    "### 문제 3-1\n",
    "리스트 fruits = ['apple', 'banana', 'cherry', 'date'] 에서 2번 인덱스 자리에 'watermelon'을 추가하는 코드를 작성하세요"
   ]
  },
  {
   "cell_type": "code",
   "execution_count": 28,
   "metadata": {},
   "outputs": [
    {
     "name": "stdout",
     "output_type": "stream",
     "text": [
      "['apple', 'banana', 'watermelon', 'watermelon', 'cherry', 'date']\n"
     ]
    }
   ],
   "source": [
    "fruits.insert(2, 'watermelon')\n",
    "print(fruits)"
   ]
  },
  {
   "cell_type": "markdown",
   "metadata": {},
   "source": [
    "### 문제 3-2\n",
    "다음 코드의 출력 결과는 무엇인가요?"
   ]
  },
  {
   "cell_type": "code",
   "execution_count": 29,
   "metadata": {},
   "outputs": [
    {
     "name": "stdout",
     "output_type": "stream",
     "text": [
      "[['apple', 'banana', 'cherry', 'watermelon', 'date'], 'melon', 'blueberry']\n"
     ]
    }
   ],
   "source": [
    "fruits = [['apple', 'banana', 'cherry', 'watermelon', 'date']]\n",
    "new_fruits = ['melon', 'blueberry']\n",
    "fruits.extend(new_fruits)\n",
    "print(fruits)"
   ]
  },
  {
   "cell_type": "code",
   "execution_count": null,
   "metadata": {},
   "outputs": [],
   "source": [
    "[['apple', 'banana', 'cherry', 'watermelon', 'date'], 'melon', 'blueberry']"
   ]
  },
  {
   "cell_type": "markdown",
   "metadata": {},
   "source": [
    "### 문제 3-3\n",
    "리스트 fruits = ['apple', 'banana', 'cherry', 'watermelon', 'date'] 에서 'cherry'를 제거하고 fruits를 출력하세요"
   ]
  },
  {
   "cell_type": "code",
   "execution_count": 32,
   "metadata": {},
   "outputs": [
    {
     "name": "stdout",
     "output_type": "stream",
     "text": [
      "['apple', 'banana', 'watermelon', 'date']\n"
     ]
    }
   ],
   "source": [
    "fruits = ['apple', 'banana', 'cherry', 'watermelon', 'date'] \n",
    "fruits.remove('cherry')\n",
    "print(fruits)\n"
   ]
  },
  {
   "cell_type": "markdown",
   "metadata": {},
   "source": [
    "## 문제 4\n",
    "다음 코드의 출력 결과는 무엇인가요?"
   ]
  },
  {
   "cell_type": "code",
   "execution_count": 40,
   "metadata": {},
   "outputs": [
    {
     "name": "stdout",
     "output_type": "stream",
     "text": [
      "['e', 'd', 'c', 'b', 'a']\n"
     ]
    }
   ],
   "source": [
    "my_list = ['a', 'b', 'c', 'd', 'e']\n",
    "print(my_list[::-1])\n"
   ]
  },
  {
   "cell_type": "markdown",
   "metadata": {},
   "source": [
    "## 문제 5\n",
    "다음 코드의 출력 결과는 무엇인가요?"
   ]
  },
  {
   "cell_type": "code",
   "execution_count": 41,
   "metadata": {},
   "outputs": [
    {
     "name": "stdout",
     "output_type": "stream",
     "text": [
      "[1, 2, 3, 4, 5, 4, 5]\n"
     ]
    }
   ],
   "source": [
    "list1 = [1, 2, 3]\n",
    "list2 = [4, 5]\n",
    "print(list1+list2*2)"
   ]
  },
  {
   "cell_type": "markdown",
   "metadata": {},
   "source": [
    "## 문제 6\n",
    "다음 코드의 출력 결과는 무엇인가요?"
   ]
  },
  {
   "cell_type": "code",
   "execution_count": 42,
   "metadata": {},
   "outputs": [
    {
     "name": "stdout",
     "output_type": "stream",
     "text": [
      "[5, 4, 3, 2]\n"
     ]
    }
   ],
   "source": [
    "my_list = [0, 1, 2, 3, 4, 5]\n",
    "print(my_list[5:1:-1])"
   ]
  },
  {
   "cell_type": "markdown",
   "metadata": {},
   "source": [
    "## 문제 7\n",
    "리스트 numbers = [1, 3, 3, 1, 7, 2, 9, 3, 5, 7] 에서 처음으로 7의 값이 나오는 인덱스를 출력하세요. (단순 인덱스 출력 X)"
   ]
  },
  {
   "cell_type": "code",
   "execution_count": 43,
   "metadata": {},
   "outputs": [
    {
     "name": "stdout",
     "output_type": "stream",
     "text": [
      "4\n"
     ]
    }
   ],
   "source": [
    "numbers = [1, 3, 3, 1, 7, 2, 9, 3, 5, 7]\n",
    "numbers_idx = numbers.index(7)\n",
    "print(numbers_idx)"
   ]
  },
  {
   "cell_type": "markdown",
   "metadata": {},
   "source": [
    "### 문제 7-1\n",
    "위 numbers 리스트에서 3라는 값의 개수를 출력하세요."
   ]
  },
  {
   "cell_type": "code",
   "execution_count": 44,
   "metadata": {},
   "outputs": [
    {
     "name": "stdout",
     "output_type": "stream",
     "text": [
      "3\n"
     ]
    }
   ],
   "source": [
    "cnt = numbers.count(3)\n",
    "print(cnt)"
   ]
  },
  {
   "cell_type": "markdown",
   "metadata": {},
   "source": [
    "# 실습"
   ]
  },
  {
   "cell_type": "markdown",
   "metadata": {},
   "source": [
    "## 문제 1\n",
    "다음 코드의 출력 결과는 무엇인가요?"
   ]
  },
  {
   "cell_type": "code",
   "execution_count": 45,
   "metadata": {},
   "outputs": [
    {
     "name": "stdout",
     "output_type": "stream",
     "text": [
      "[1, 9, 9, 9, 5]\n"
     ]
    }
   ],
   "source": [
    "numbers = [1, 2, 3, 4, 5]\n",
    "numbers[1:4] = [9, 9, 9]\n",
    "print(numbers)"
   ]
  },
  {
   "cell_type": "markdown",
   "metadata": {},
   "source": [
    "## 문제 2\n",
    "문자열 \"hello\"를 리스트 ['h', 'e', 'l', 'l', 'o']로 변환하는 코드를 작성하세요."
   ]
  },
  {
   "cell_type": "code",
   "execution_count": 48,
   "metadata": {},
   "outputs": [
    {
     "name": "stdout",
     "output_type": "stream",
     "text": [
      "['h', 'e', 'l', 'l', 'o']\n"
     ]
    }
   ],
   "source": [
    "s = 'hello'\n",
    "s_list = list(s)\n",
    "print(s_list)"
   ]
  },
  {
   "cell_type": "markdown",
   "metadata": {},
   "source": [
    "## 문제 3\n",
    "다음 리스트에서 numbers = [3, 1, 4, 1, 5, 9, 2, 6, 5] 오름차순으로 정렬하시오"
   ]
  },
  {
   "cell_type": "code",
   "execution_count": 65,
   "metadata": {},
   "outputs": [
    {
     "name": "stdout",
     "output_type": "stream",
     "text": [
      "[9, 6, 5, 5, 4, 3, 2, 1, 1]\n",
      "[9, 6, 5, 5, 4, 3, 2, 1, 1]\n"
     ]
    }
   ],
   "source": [
    "numbers = [3, 1, 4, 1, 5, 9, 2, 6, 5]\n",
    "numbers.sort(reverse=True)\n",
    "print(numbers)\n",
    "\n",
    "numbers = [3, 1, 4, 1, 5, 9, 2, 6, 5]\n",
    "sort_num = sorted(numbers,reverse=True)\n",
    "print(sort_num)\n",
    "\n"
   ]
  },
  {
   "cell_type": "markdown",
   "metadata": {},
   "source": [
    "### 문제 3-1\n",
    "내림차순으로 정렬하시오"
   ]
  },
  {
   "cell_type": "code",
   "execution_count": null,
   "metadata": {},
   "outputs": [],
   "source": []
  },
  {
   "cell_type": "markdown",
   "metadata": {},
   "source": [
    "## 문제 4\n",
    "리스트 a = [1, 2, 3]가 있습니다. 이 리스트를 얕은 복사가 아닌 완전한 복사(깊은 복사)하여 b에 저장하고 싶습니다. 어떻게 해야 하나요?"
   ]
  },
  {
   "cell_type": "code",
   "execution_count": 66,
   "metadata": {},
   "outputs": [
    {
     "name": "stdout",
     "output_type": "stream",
     "text": [
      "1\n"
     ]
    }
   ],
   "source": [
    "a = [1,2,3]\n",
    "b = a\n",
    "print(b[0])"
   ]
  },
  {
   "cell_type": "markdown",
   "metadata": {},
   "source": [
    "## 문제 5\n",
    "다음 코드의 실행 결과는 무엇인가요?"
   ]
  },
  {
   "cell_type": "code",
   "execution_count": 68,
   "metadata": {},
   "outputs": [
    {
     "name": "stdout",
     "output_type": "stream",
     "text": [
      "[1, 2, 3, 4] [1, 2, 3]\n"
     ]
    }
   ],
   "source": [
    "a = [1, 2, 3]\n",
    "b = a[:]\n",
    "a.append(4)\n",
    "print(a, b)"
   ]
  },
  {
   "cell_type": "code",
   "execution_count": 71,
   "metadata": {},
   "outputs": [
    {
     "name": "stdout",
     "output_type": "stream",
     "text": [
      "[1, 2, 3, 5] [1, 2, 3]\n"
     ]
    }
   ],
   "source": [
    "import copy\n",
    "a = [1, 2, 3]\n",
    "b = copy.deepcopy(a)\n",
    "a.append(5)\n",
    "print(a,b)"
   ]
  },
  {
   "cell_type": "markdown",
   "metadata": {},
   "source": [
    "# 심화\n",
    "리스트 컴프리헨션, 반복문, 조건문 사용"
   ]
  },
  {
   "cell_type": "markdown",
   "metadata": {},
   "source": [
    "## 문제 1\n",
    "리스트 numbers = [1, 2, 3, 4, 5]가 있습니다. 이 리스트의 모든 요소를 제곱한 새로운 리스트 squared_numbers 출력하세요"
   ]
  },
  {
   "cell_type": "code",
   "execution_count": 79,
   "metadata": {},
   "outputs": [
    {
     "name": "stdout",
     "output_type": "stream",
     "text": [
      "[1, 4, 9, 16, 25]\n"
     ]
    }
   ],
   "source": [
    "numbers = [1,2,3,4,5]\n",
    "num_list = []\n",
    "for x in numbers:\n",
    "    s_list = x**2\n",
    "    num_list.append(s_list) \n",
    "\n",
    "print(num_list)"
   ]
  },
  {
   "cell_type": "code",
   "execution_count": 80,
   "metadata": {},
   "outputs": [
    {
     "name": "stdout",
     "output_type": "stream",
     "text": [
      "[1, 4, 9, 16, 25]\n"
     ]
    }
   ],
   "source": [
    "numbers = [1,2,3,4,5]\n",
    "num_list = [x**2 for x in numbers]\n",
    "print(num_list)"
   ]
  },
  {
   "cell_type": "markdown",
   "metadata": {},
   "source": [
    "## 문제 2\n",
    "리스트 numbers = [1, 2, 3, 4, 5, 6]에서 짝수만을 포함하는 새로운 리스트를 출력하세요"
   ]
  },
  {
   "cell_type": "markdown",
   "metadata": {},
   "source": []
  },
  {
   "cell_type": "code",
   "execution_count": 81,
   "metadata": {},
   "outputs": [
    {
     "name": "stdout",
     "output_type": "stream",
     "text": [
      "[2, 4, 6]\n"
     ]
    }
   ],
   "source": [
    "numbers = [1,2,3,4,5,6]\n",
    "number = []\n",
    "for x in numbers:\n",
    "    if x % 2 == 0:\n",
    "        number.append(x)\n",
    "print(number)"
   ]
  },
  {
   "cell_type": "code",
   "execution_count": 83,
   "metadata": {},
   "outputs": [
    {
     "name": "stdout",
     "output_type": "stream",
     "text": [
      "[2, 4, 6]\n"
     ]
    }
   ],
   "source": [
    "numbers = [1,2,3,4,5,6]\n",
    "number = [x for x in numbers if x%2==0]\n",
    "print(number)"
   ]
  },
  {
   "cell_type": "markdown",
   "metadata": {},
   "source": [
    "## 문제 3\n",
    "2차원 리스트 matrix = [[1, 2], [3, 4], [5, 6]]에서 각 요소를 모두 더한 합계를 계산하세요."
   ]
  },
  {
   "cell_type": "code",
   "execution_count": 87,
   "metadata": {},
   "outputs": [
    {
     "name": "stdout",
     "output_type": "stream",
     "text": [
      "21\n",
      "21\n"
     ]
    }
   ],
   "source": [
    "matrix = [[1, 2], [3, 4], [5, 6]]\n",
    "result = 0\n",
    "for x in matrix:\n",
    "    for num in x:\n",
    "        result+=num\n",
    "print(result)\n",
    "\n",
    "matrix = [[1, 2], [3, 4], [5, 6]]\n",
    "result = 0\n",
    "for x in matrix:\n",
    "    result += sum(x)\n",
    "print(result)"
   ]
  },
  {
   "cell_type": "code",
   "execution_count": 89,
   "metadata": {},
   "outputs": [
    {
     "name": "stdout",
     "output_type": "stream",
     "text": [
      "21\n"
     ]
    }
   ],
   "source": [
    "matrix = [[1, 2], [3, 4], [5, 6]]\n",
    "result = sum([item for row in matrix for item in row])\n",
    "print(result)"
   ]
  },
  {
   "cell_type": "markdown",
   "metadata": {},
   "source": [
    "## 문제 4 - set 함수 사용\n",
    "다음 리스트에서 중복된 요소를 제거하고, 오름차순으로 정렬된 새로운 리스트를 만드세요: numbers = [3, 1, 4, 1, 5, 9, 2, 6, 5]"
   ]
  },
  {
   "cell_type": "code",
   "execution_count": 93,
   "metadata": {},
   "outputs": [
    {
     "name": "stdout",
     "output_type": "stream",
     "text": [
      "[1, 2, 3, 4, 5, 6, 9]\n"
     ]
    }
   ],
   "source": [
    "numbers = [3, 1, 4, 1, 5, 9, 2, 6, 5]\n",
    "set_num = sorted(list(set(numbers)))\n",
    "print(set_num)"
   ]
  },
  {
   "cell_type": "code",
   "execution_count": 95,
   "metadata": {},
   "outputs": [
    {
     "name": "stdout",
     "output_type": "stream",
     "text": [
      "[1, 2, 3, 4, 5, 6, 9]\n"
     ]
    }
   ],
   "source": [
    "numbers = [3, 1, 4, 1, 5, 9, 2, 6, 5]\n",
    "set_num = list(set(numbers))\n",
    "set_num.sort()\n",
    "print(set_num)"
   ]
  },
  {
   "cell_type": "code",
   "execution_count": null,
   "metadata": {},
   "outputs": [],
   "source": []
  }
 ],
 "metadata": {
  "kernelspec": {
   "display_name": "good",
   "language": "python",
   "name": "python3"
  },
  "language_info": {
   "codemirror_mode": {
    "name": "ipython",
    "version": 3
   },
   "file_extension": ".py",
   "mimetype": "text/x-python",
   "name": "python",
   "nbconvert_exporter": "python",
   "pygments_lexer": "ipython3",
   "version": "3.12.6"
  }
 },
 "nbformat": 4,
 "nbformat_minor": 2
}
