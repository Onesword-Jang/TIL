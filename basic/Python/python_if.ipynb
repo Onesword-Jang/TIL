{
 "cells": [
  {
   "cell_type": "markdown",
   "metadata": {},
   "source": [
    "1. 조건문의 기본 개념\n",
    "- if: 조건이 True이면 코드블록을 실행한다.\n",
    "- elif: 앞의 조건이 거짓이라면 다음 조건을 검사\n",
    "- else: 위의 모든 조건이 거짓일 때 실행"
   ]
  },
  {
   "cell_type": "markdown",
   "metadata": {},
   "source": [
    "2. if 문\n",
    "if 조건식:\n",
    "    위 조건이 참일 때 실행할 코드"
   ]
  },
  {
   "cell_type": "markdown",
   "metadata": {},
   "source": [
    "if 조건식:\n",
    "    위 조건이 참일 때 실행할 코드"
   ]
  },
  {
   "cell_type": "code",
   "execution_count": 1,
   "metadata": {},
   "outputs": [
    {
     "name": "stdout",
     "output_type": "stream",
     "text": [
      "성인입니다.\n"
     ]
    }
   ],
   "source": [
    "age = 20\n",
    "\n",
    "if age >= 18:\n",
    "    print('성인입니다.')\n",
    "\n",
    "x = 5\n",
    "\n",
    "if x > 10:\n",
    "    print('x는 10보다 큽니다.')"
   ]
  },
  {
   "cell_type": "markdown",
   "metadata": {},
   "source": [
    "3. if-else문\n",
    "```python\n",
    "if 조건식:\n",
    "    # 조건이 True일 때 실행되는 코드\n",
    "else:\n",
    "    # 조건이 False일 때 실행되는 코드\n",
    "```"
   ]
  },
  {
   "cell_type": "code",
   "execution_count": 2,
   "metadata": {},
   "outputs": [
    {
     "name": "stdout",
     "output_type": "stream",
     "text": [
      "미성년자입니다.\n"
     ]
    }
   ],
   "source": [
    "age = 16\n",
    "\n",
    "if age >= 18:\n",
    "    print('성인입니다.')\n",
    "else:\n",
    "    print('미성년자입니다.')"
   ]
  },
  {
   "cell_type": "markdown",
   "metadata": {},
   "source": [
    "4. if-elif-else 문\n",
    "```python\n",
    "if 조건식1:\n",
    "    # 조건1이 True일 때 실행할 코드\n",
    "elif 조건식2:\n",
    "    # 조건1은 False이고, 조건2가 True일 때 실행할 코드\n",
    "elif 조건식3:\n",
    "    # 조건1,2 모두 False이고 조건3이 True일 때 실행할 코드\n",
    "else:\n",
    "    # 위의 모든 조건이 False일 때 실행할 코드\n",
    "```"
   ]
  },
  {
   "cell_type": "code",
   "execution_count": 3,
   "metadata": {},
   "outputs": [
    {
     "name": "stdout",
     "output_type": "stream",
     "text": [
      "B 학점\n"
     ]
    }
   ],
   "source": [
    "score = 85\n",
    "\n",
    "if score >= 90:\n",
    "    print('A 학점')\n",
    "elif score >= 80:\n",
    "    print('B 학점')\n",
    "elif score >= 70:\n",
    "    print('C 학점')\n",
    "else:\n",
    "    print('D 학점')"
   ]
  },
  {
   "cell_type": "markdown",
   "metadata": {},
   "source": [
    "5. 복합 조건문\n",
    "`AND`, `OR`, `NOT` 연산자\n",
    "- AND: 모든 조건이 True일 때만 True\n",
    "- OR: 하나라도 조건이 True이면 True\n",
    "- NOT: 조건의 결과를 반전 (True<->False) "
   ]
  },
  {
   "cell_type": "code",
   "execution_count": 5,
   "metadata": {},
   "outputs": [
    {
     "name": "stdout",
     "output_type": "stream",
     "text": [
      "x는 0보다 크고 10보다 작습니다.\n",
      "x는 0보다 작거나 5보다 큽니다.\n",
      "비가 오지 않습니다.\n"
     ]
    }
   ],
   "source": [
    "x = 7\n",
    "\n",
    "# and\n",
    "if x > 0 and x< 10:\n",
    "    print('x는 0보다 크고 10보다 작습니다.')\n",
    "\n",
    "# or\n",
    "if x < 0 or x > 5:\n",
    "    print('x는 0보다 작거나 5보다 큽니다.')\n",
    "\n",
    "# not\n",
    "is_raining = False\n",
    "\n",
    "if not is_raining:\n",
    "    print('비가 오지 않습니다.')"
   ]
  },
  {
   "cell_type": "markdown",
   "metadata": {},
   "source": [
    "6. 삼항 연산자(조건부 표현식)\n",
    "- 간단히 한 줄로 표현하는 조건문\n",
    "\n",
    "```python\n",
    "참일 때 값 if 조건식 else 거짓일 때 값\n",
    "```"
   ]
  },
  {
   "cell_type": "code",
   "execution_count": 6,
   "metadata": {},
   "outputs": [
    {
     "name": "stdout",
     "output_type": "stream",
     "text": [
      "합격\n"
     ]
    }
   ],
   "source": [
    "score = 75\n",
    "result = '합격' if score >= 60 else '불합격'\n",
    "print(result)"
   ]
  },
  {
   "cell_type": "markdown",
   "metadata": {},
   "source": [
    "7. 조건문과 함께 자주 쓰이는 비교 연산자\n",
    "\n",
    "|연산자|의미|예시|결과|\n",
    "|------|----|----------|-------|\n",
    "|`==`|같음|`x == y`|x와 y가 같으면 True|\n",
    "|`!=`|같지 않음|`x != y`|x와 y가 다르면 True|\n",
    "|`<`|작음|`x < y`|x가 y보다 작으면 True|\n",
    "|`>`|큼|`x > y`|x가 y보다 크면 True|\n",
    "|`<=`|작거나 같음|`x <= y|x가 y보다 작거나 같으면 True|\n",
    "|`>=`|크거나 같음|`x >= y`|x가 y보다 크거나 같으면 True|\n"
   ]
  },
  {
   "cell_type": "markdown",
   "metadata": {},
   "source": [
    "8. 조건문 예제: 짝수/홀수 판별"
   ]
  },
  {
   "cell_type": "code",
   "execution_count": 7,
   "metadata": {},
   "outputs": [
    {
     "name": "stdout",
     "output_type": "stream",
     "text": [
      "짝수입니다.\n"
     ]
    }
   ],
   "source": [
    "num = int(input('숫자를 입력하세요: '))\n",
    "\n",
    "if num % 2 ==0:\n",
    "    print('짝수입니다.')\n",
    "else:\n",
    "    print('홀수입니다.')"
   ]
  },
  {
   "cell_type": "markdown",
   "metadata": {},
   "source": [
    "9. 조건문 예제(로그인 검증)"
   ]
  },
  {
   "cell_type": "code",
   "execution_count": 8,
   "metadata": {},
   "outputs": [
    {
     "name": "stdout",
     "output_type": "stream",
     "text": [
      "로그인 성공\n"
     ]
    }
   ],
   "source": [
    "correct_id = 'admin'\n",
    "correct_pw = '1234'\n",
    "\n",
    "user_id = input('아이디를 입력하세요: ')\n",
    "user_pw = input('비밀번호를 입력하세요: ')\n",
    "\n",
    "if user_id == correct_id and user_pw == correct_pw:\n",
    "    print('로그인 성공')\n",
    "elif user_id == correct_id and user_pw != correct_pw:\n",
    "    print('비밀번호가 틀렸습니다.')\n",
    "else:\n",
    "    print('존재하지 않는 계정입니다.')"
   ]
  },
  {
   "cell_type": "markdown",
   "metadata": {},
   "source": [
    "10. 조건문 예제: 다중 조건 처리"
   ]
  },
  {
   "cell_type": "code",
   "execution_count": 12,
   "metadata": {},
   "outputs": [
    {
     "name": "stdout",
     "output_type": "stream",
     "text": [
      "F 학점\n"
     ]
    }
   ],
   "source": [
    "score = int(input('점수를 입력하세요: '))\n",
    "\n",
    "if score < 0 or score > 100:\n",
    "    print('점수가 범위를 벗어났습니다.')\n",
    "elif score >= 90:\n",
    "    print('A 학점')\n",
    "elif score >= 80:\n",
    "    print('B 학점')\n",
    "elif score >= 70:\n",
    "    print('C 학점')\n",
    "elif score >= 60:\n",
    "    print('D 학점')\n",
    "else:\n",
    "    print('F 학점')"
   ]
  },
  {
   "cell_type": "markdown",
   "metadata": {},
   "source": []
  }
 ],
 "metadata": {
  "kernelspec": {
   "display_name": "good",
   "language": "python",
   "name": "python3"
  },
  "language_info": {
   "codemirror_mode": {
    "name": "ipython",
    "version": 3
   },
   "file_extension": ".py",
   "mimetype": "text/x-python",
   "name": "python",
   "nbconvert_exporter": "python",
   "pygments_lexer": "ipython3",
   "version": "3.12.6"
  }
 },
 "nbformat": 4,
 "nbformat_minor": 2
}
