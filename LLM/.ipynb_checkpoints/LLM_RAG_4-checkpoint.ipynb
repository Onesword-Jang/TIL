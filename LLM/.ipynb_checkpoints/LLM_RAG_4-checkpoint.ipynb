{
 "cells": [
  {
   "cell_type": "markdown",
   "id": "6c103be8",
   "metadata": {},
   "source": [
    "# 4-1 대화를 활용한 프롬프팅 기법\n",
    "\n",
    "## 1. 정보 제공하기\n",
    "### 1) System에 전달하기\n",
    "- 한번에 모든 정보를 주고, 이후에는 모델이 그 정보를 잊지 않도록 한다.\n",
    "\n",
    "```python\n",
    "System: 너는 블로그 글을 작성하는 인공지능이야. 제공된 정보를 바탕으로 글을 작성해.\n",
    "정보:\n",
    "\"\"\"\n",
    "2024년 4월~5월의 서울 부동산 낙찰가율은 최근 45.3%로 상승했습니다. 강남구와 서초구는 상대적으로 낮은 낙찰가율을 보였고, 광진구와 노원구는 높은 낙찰가율을 기록했습니다.\n",
    "\"\"\"\n",
    "User: 2024년 4월~5월 최신의 서울 부동산 낙찰가율에 대한 블로그 글을 작성해줘.\n",
    "Assistant:\n",
    "**서울 부동산 낙찰가율 동향: 2024년 4월 업데이트**\n",
    "\n",
    "서울의 부동산 경매 시장이 2024년 4월에 눈에 띄는 변화를 겪고 있습니다. 낙찰가율이 45.3%로 상승했으며, 특히 강남구와 서초구는 낮은 낙찰가율을 보이고 있는 반면, 광진구와 노원구는 높은 낙찰가율을 기록하고 있습니다...\n",
    "\n",
    "```\n",
    "\n",
    "### 2) Assistant에 전달하기\n",
    "- 대화 중에 정보를 제공하지만, LLM이 기억할 수 있는 대화량에 한계가 있기 때문에 까먹을 수 있다.\n",
    "- API 구현이나 PlayGround 이용\n",
    "- Assistant란에 반말(정보)을 넣으면 된다.\n",
    "\n",
    "--------------\n",
    "\n",
    "# 4-2 형식 지정 기법\n",
    "\n",
    "## 1. 문서 형식 지정\n",
    "### 1) Markdown\n",
    "- 여러 요소를 전달해야할 때 마크다운 문법으로 작성 (#, *, - ,1., 1) 등)\n",
    "- 마크다운 방식의 표 전달하면 쉽다.\n",
    "\n",
    "### 2) JSON\n",
    "- JSON운 데이터를 키 - 값 싸으로 표현하는 방식\n",
    "\n",
    "```python\n",
    "\n",
    "System: 다음의 정보에 따라 답변해.\n",
    "{\n",
    "  \"이름\": \"배형호,\n",
    "  \"나이\": 31,\n",
    "  \"직업\": \"인공지능 개발자\"\n",
    "}\n",
    "\n",
    "```\n",
    "\n",
    "### 3) Symbol(특수기호) \n",
    "- 특수 기호를 사용해 중요한 부분을 강조\n",
    "- 마크다운의 문법 중의 강조 기능\n"
   ]
  },
  {
   "cell_type": "code",
   "execution_count": null,
   "id": "6803ba3c",
   "metadata": {},
   "outputs": [],
   "source": []
  }
 ],
 "metadata": {
  "kernelspec": {
   "display_name": "AI",
   "language": "python",
   "name": "ai"
  },
  "language_info": {
   "codemirror_mode": {
    "name": "ipython",
    "version": 3
   },
   "file_extension": ".py",
   "mimetype": "text/x-python",
   "name": "python",
   "nbconvert_exporter": "python",
   "pygments_lexer": "ipython3",
   "version": "3.9.20"
  }
 },
 "nbformat": 4,
 "nbformat_minor": 5
}
