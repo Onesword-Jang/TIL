{
 "cells": [
  {
   "cell_type": "markdown",
   "metadata": {},
   "source": [
    "# HTTP Form\n",
    "- 클라이언트가 서버에게 데이터를 보내는 방법\n",
    "\n",
    "```html\n",
    "<form action=\"/submit/\" method=\"post\">\n",
    "    <label for=\"username\">사용자 이름:</label><br>\n",
    "    <input type=\"text\" id=\"username\" name=\"username\" required><br>\n",
    "    \n",
    "    <label for=\"email\">이메일 주소:</label><br>\n",
    "    <input type=\"email\" id=\"email\" name=\"email\" required><br>\n",
    "    \n",
    "    <label for=\"password\">비밀번호:</label><br>\n",
    "    <input type=\"password\" id=\"password\" name=\"password\" required><br>\n",
    "    \n",
    "    <input type=\"submit\" value=\"가입하기\">\n",
    "</form>\n",
    "```\n",
    "\n",
    "- action\n",
    "    - 데이터가 전송될 URL을 지정합니다.\n",
    "    - 지정하지 않을경우 현재 페이지의 URL로 데이터를 전송합니다.\n",
    "- method\n",
    "    - 데이터를 전송하는 방식(HTTP request method)을 지정합니다.\n",
    "    - HTML Form은 `GET` 방식 또는 `POST` 방식으로만 전송이 가능합니다.\n",
    "\n",
    "- 실습은 data_throw.html 파일에 있다.\n",
    "    - 사용 태그 lable(for=my_data), input(type=text,id=my_data), button(type=submit)\n",
    "    - <>를 다 작성하면 뒤에 바로 텍스를 작성해서 화면에 노출\n",
    "\n",
    "- input:\n",
    "    - 사용자의 입력을 받기 위해 사용\n",
    "    - type 속성에 따라 입력 동작 방식이 달라진다. (defalut값은 text)(text, password, date등)\n",
    "    - name으로 서버에 데이터를 전달하고, 서버는 name을 보고 데이터를 판단\n",
    "    - input의 name 속성: \n",
    "        - form을 제출(submit)하면 name속성에 설정된 값이 서버로 전송\n",
    "        - name속성의 값이 key가 되고, 사용자가 입력한 값이 value가 되어 전송\n",
    "\n",
    "\n",
    "- HTTP란?\n",
    "    - 하이퍼텍스트 전송 프로토콜 (Hyper Text Transfer Protocol)\n",
    "    - 여러가지 리소스를 보내고 받을 때 사용하는 **프로토콜 (통신규약) == 약속**입니다.\n",
    "    - 요청(request)와 응답(response)로 이루어지는 통신입니다.\n",
    "    - 웹에서 이루어지는 데이터 교환의 기초라고 할 수 있습니다.\n",
    "- HTTP methods\n",
    "    - HTTP에서 수행할 작업을 나타냅니다.\n",
    "    - 특정 자원에 대해 내가 수행하고자 하는 동작을 method로 정의.\n",
    "    - GET, POST, PUT, DELETE, … 등이 있다.\n",
    "\n",
    "    - GET: 특정한 자원을 조회할 때 사용.\n",
    "        - 쿼리스트링을 사용해서 전송\n",
    "        - 쿼리스트링: URL에 데이터가 포함되어 전송하는 방식\n",
    "\n",
    "- 데이터 받기(GET) \n",
    "강의 36분 부터 다시\n",
    "\n"
   ]
  },
  {
   "cell_type": "markdown",
   "metadata": {},
   "source": []
  }
 ],
 "metadata": {
  "language_info": {
   "name": "python"
  }
 },
 "nbformat": 4,
 "nbformat_minor": 2
}
