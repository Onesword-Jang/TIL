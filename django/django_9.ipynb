{
 "cells": [
  {
   "cell_type": "markdown",
   "metadata": {},
   "source": [
    "# Django template System\n",
    "\n",
    "- template란?\n",
    "    - 데이터를 보여주는 로직\n",
    "\n",
    "- Template System\n",
    "    - 데이터 표현을 위해 다양한 도구를 제공\n",
    "    - DTL: Django Template에서 사용하는 문법(파이썬과 비슷)\n",
    "        - 변수, Variable: {{variable}}, view의 context의 키로 넘긴 데이터(value)를 접근할 수 있다.\n",
    "        - 필터, Filters: {{variable|filter}}, 필터는 약 60개가있어 docs를 참고하여 사용해야한다./커스텀도 가능\n",
    "        - 태그, Tags: {% tag %}, 반복 또는 논리를 수행하여 제어 흐름을 만들거나 특수한 기능을 수행(시작 태그{% if ~ %}, 종료 태그{% endif %})\n",
    "        - 주석, Comments: {# 한 줄 주선 #}, {% comment %} 여러줄 주석 {% endcomment %}\n",
    "\n",
    "    - 변수 사용 방법 views.py의 def함수 안에 context를 딕셔너리형태로 작성, html파일에 {{context의 키 이름}} 작성\n",
    "    - 태그 사용 방법 views.py의 def함수 안에 태그로 사용할 변수 정의 후 html파일에 <p>{{태그이름}}</p>으로 작성, 태그의 인덱스 순서로 접근하기 위해선 {{태그이름.0}}, \n",
    "    태그에 함수를 적용하고 싶다면 {{태그이름.0|upper}}, 여러줄 태그로 for문을 사용하고 싶다면\n",
    "\n",
    "```html\n",
    "{% for book in books %}\n",
    "<li>{{book}}</li>\n",
    "{% endfor %}\n",
    "```\n",
    "\n",
    "- Templates Inheritance (base.html과 hello.html보고 참고)\n",
    "    - 코드의 중복 문제를 해결하기 위한 방법 즉, 템플릿 상속\n",
    "    - 상위 템플릿에서 하위 템플릿 마다 달라질 부분을 정의\n",
    "        - {% block block_name %} {% endblock block_name %}\n",
    "    - 하위 템플릿에서 상위 템플릿을 상속해서 확장한다는 것(최상단에 위치해야 함)\n",
    "        - {% extends 'template_name' %}\n",
    "\n",
    "- 템플릿을 깔끔하게 저장하기 위해서 가장 위의 디렉토리에 templates폴더를 만들고 base.thml 파일 작성하고 settings.py의 TEMPLATES안의 DIRS를 작성 'DIRS': [BASE_DIR / 'templates'] "
   ]
  },
  {
   "cell_type": "markdown",
   "metadata": {},
   "source": []
  }
 ],
 "metadata": {
  "language_info": {
   "name": "python"
  }
 },
 "nbformat": 4,
 "nbformat_minor": 2
}
