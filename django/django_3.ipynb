{
 "cells": [
  {
   "cell_type": "markdown",
   "metadata": {},
   "source": [
    "# 장고 프로젝트\n",
    "- 장고는 프로젝트를 단위로 움직인다.\n",
    "- manage.py로 장고 프로젝트를 핸들링한다.\n",
    "- 순서\n",
    "    1. 가상환경 생성\n",
    "    2. 프로젝트 생성 및 이동\n",
    "        - django-admin startproject (프로젝트 이름)\n",
    "        - cd (트로젝트 이름)\n",
    "    3. 파일 활성화\n",
    "        - python manage.py runserver\n",
    "\n",
    "- 프로젝트 생성 시 생성 되는 파일/폴더\n",
    "    - `settings.py` : 프로젝트의 설정을 관리하는 곳\n",
    "    - `urls.py` : 어떤 요청을 처리할지 결정하는 곳 \n",
    "    - `__init__.py` : 하나의 폴더를 하나의 파이썬 패키지로 인식하도록 하는 파일 \n",
    "        - 3버전 이상으로 가면 없어도 됩니다. 하지만, 3버전 이하에서도 동작하도록 호환성을 위해 지키는 규칙입니다!\n",
    "    - `wsgi.py` : 웹 서버 관련 설정 파일\n",
    "    - `manage.py` : Django 프로젝트 유틸리티 (조종기)\n",
    "\n"
   ]
  }
 ],
 "metadata": {
  "language_info": {
   "name": "python"
  }
 },
 "nbformat": 4,
 "nbformat_minor": 2
}
