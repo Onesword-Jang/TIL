{
 "cells": [
  {
   "cell_type": "markdown",
   "metadata": {},
   "source": [
    "# 앱\n",
    "\n",
    "## 앱이란?\n",
    "- 하나의 프로젝트는 여러 개의 앱으로 구성 됳 수 있다.\n",
    "    - 하나의 앱으로 모두 개발하는 것도 가능.\n",
    "\n",
    "- 프로젝트: 앱의 집합체\n",
    "- 앱: 각각의 기능 단위 모듈\n",
    "\n",
    "- 앱 생성\n",
    "    - python manage.py startapp <app_name>\n",
    "- 앱 등록\n",
    "    - setting.py의 INSTALLED_APPS 부분에 앱의 이름을 적어준다.\n",
    "\n",
    "- 앱 생성시 생성 되는 파일\n",
    "    - `admin.py`: 관리자용 페이지 관련 설정\n",
    "    - `apps.py` : 앱 관련 정보 설정\n",
    "    - `models.py` : DB관련 데이터 정의 파일\n",
    "    - `tests.py` : 테스트 관련 파일 \n",
    "    - `views.py` : 요청을 처리하고 처리한 결과를 반환하는 파일\n"
   ]
  },
  {
   "cell_type": "markdown",
   "metadata": {},
   "source": []
  }
 ],
 "metadata": {
  "language_info": {
   "name": "python"
  }
 },
 "nbformat": 4,
 "nbformat_minor": 2
}
