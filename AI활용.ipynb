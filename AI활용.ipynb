{
 "cells": [
  {
   "cell_type": "markdown",
   "id": "dcea3a65",
   "metadata": {},
   "source": [
    "# AI모델활용 1주차\n",
    "\n",
    "## API란?\n",
    "* 프로그램끼리 통신하는 인터페이스이다.\n",
    "* 예시: 구글(비젼API), 챗GPT, 일레븐 랩스\n",
    "* 사전학습 모델: 많은 데이터로 미리 학습된 AI모델\n",
    "** 학습과정을 생략하고 바로 예측이나 분류가 가능\n",
    "** 모델 단위로 제공 되어서 모델결합에 좋다.\n",
    "** 안정성이 좋다.\n"
   ]
  },
  {
   "cell_type": "code",
   "execution_count": null,
   "id": "bd729849",
   "metadata": {},
   "outputs": [],
   "source": []
  },
  {
   "cell_type": "code",
   "execution_count": null,
   "id": "f718ed4e",
   "metadata": {},
   "outputs": [],
   "source": []
  }
 ],
 "metadata": {
  "kernelspec": {
   "display_name": "Python (study)",
   "language": "python",
   "name": "study"
  },
  "language_info": {
   "codemirror_mode": {
    "name": "ipython",
    "version": 3
   },
   "file_extension": ".py",
   "mimetype": "text/x-python",
   "name": "python",
   "nbconvert_exporter": "python",
   "pygments_lexer": "ipython3",
   "version": "3.12.7"
  }
 },
 "nbformat": 4,
 "nbformat_minor": 5
}
