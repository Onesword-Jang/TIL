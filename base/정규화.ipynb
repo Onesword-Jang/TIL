{
 "cells": [
  {
   "cell_type": "markdown",
   "id": "d1ccdae3",
   "metadata": {},
   "source": [
    "# Regularization(정규화): \n",
    "- 머신러닝과 통계학에서 모델의 복잡성을 조절하여 과적합(overfitting)을 방지하는 기법\n",
    "- 모델의 복잡도를 낮춰 훈련 데이터에 과도하게 맞추지 않고, 새로운 데이터에 잘 일반화되는 모델을 만들 수 있다.\n",
    "\n",
    "## Regularization 기법\n",
    "1. 선형 회귀 모델: L1, L2 정규화로 sklearn의 Lasso와 Ridge클래스 사용\n",
    "2. 로지스틱 회귀: sklearn.linear_model.LogisticRegression에서 penalty 파라미터를 사용해 L1 또는 L2 정규화를 적용할 수 있다.\n",
    "3. Elastic Net (L1, L2 혼합 정규화): alpha(정규화 강도)와 l1_ratio를 통해 두 정규화 유형의 비율을 조절\n",
    "\n",
    "\n",
    "\n",
    "### 세부 설명\n",
    "#### Lasso:\n",
    "- 모델의 가중치에 절대값 페널티를 적용하여, 불필요한 특성의 가중치를 0으로 만든다.\n",
    "#### Ridge: \n",
    "- 모델의 가중치에 제곱 페널티를 적용하여, 가중치가 너무 커지는 것을 방지하고 0에 가깝게 축소 시킨다.\n",
    "#### ElasticNet:\n",
    "- alpha: 정규화 강도를 결정(L1과 L2 정규화를 얼마나 강하게 적용할지를 설정)\n",
    "- alpha 값이 커지면 정규화가 강해져서 모델의 복잡도를 줄이는 효과가 있다. \n",
    "- alpha 값이 작으면 모델은 더 데이터를 잘 맞추려고하고 과적합의 위험이 커질 수 있다.\n",
    "- l1_ratio = 1일 경우 L1 정규화만 적용됩니다 (Lasso).\n",
    "- l1_ratio = 0일 경우 L2 정규화만 적용됩니다 (Ridge).\n",
    "- l1_ratio 값이 0과 1 사이일 경우 L1과 L2의 혼합 정규화가 적용됩니다."
   ]
  },
  {
   "cell_type": "code",
   "execution_count": null,
   "id": "c2caaad1",
   "metadata": {},
   "outputs": [],
   "source": [
    "# Lasso (L1 정규화) 예제\n",
    "from sklearn.linear_model import Lasso\n",
    "\n",
    "# 모델 생성 및 학습\n",
    "lasso_model = Lasso(alpha=0.1)\n",
    "lasso_model.fit(X_train, y_train)\n",
    "\n",
    "# 예측 및 평가\n",
    "predictions = lasso_model.predict(X_test)\n"
   ]
  },
  {
   "cell_type": "code",
   "execution_count": null,
   "id": "bd26534b",
   "metadata": {},
   "outputs": [],
   "source": [
    "# Ridge (L2 정규화) 예제\n",
    "from sklearn.linear_model import Ridge\n",
    "\n",
    "# 모델 생성 및 학습\n",
    "ridge_model = Ridge(alpha=1.0)  # alpha는 정규화 강도\n",
    "ridge_model.fit(X_train, y_train)\n",
    "\n",
    "# 예측 및 평가\n",
    "predictions = ridge_model.predict(X_test)\n"
   ]
  },
  {
   "cell_type": "code",
   "execution_count": null,
   "id": "143aae79",
   "metadata": {},
   "outputs": [],
   "source": [
    "# 로지스틱 회귀 정규화 예제\n",
    "from sklearn.linear_model import LogisticRegression\n",
    "\n",
    "# L2 정규화를 사용하는 로지스틱 회귀\n",
    "log_reg_l2 = LogisticRegression(penalty='l2', C=1.0)\n",
    "log_reg_l2.fit(X_train, y_train)\n",
    "\n",
    "# L1 정규화를 사용하는 로지스틱 회귀\n",
    "log_reg_l1 = LogisticRegression(penalty='l1', solver='liblinear', C=1.0)\n",
    "log_reg_l1.fit(X_train, y_train)\n"
   ]
  },
  {
   "cell_type": "code",
   "execution_count": null,
   "id": "2c9d8e70",
   "metadata": {},
   "outputs": [],
   "source": [
    "# Elastic Net 예제\n",
    "from sklearn.linear_model import ElasticNet\n",
    "\n",
    "# Elastic Net 모델 생성 및 학습\n",
    "elastic_net_model = ElasticNet(alpha=0.1, l1_ratio=0.5)  # l1_ratio로 L1, L2 비율 조정\n",
    "elastic_net_model.fit(X_train, y_train)\n"
   ]
  }
 ],
 "metadata": {
  "kernelspec": {
   "display_name": "Jang",
   "language": "python",
   "name": "myenv"
  },
  "language_info": {
   "codemirror_mode": {
    "name": "ipython",
    "version": 3
   },
   "file_extension": ".py",
   "mimetype": "text/x-python",
   "name": "python",
   "nbconvert_exporter": "python",
   "pygments_lexer": "ipython3",
   "version": "3.12.6"
  }
 },
 "nbformat": 4,
 "nbformat_minor": 5
}
