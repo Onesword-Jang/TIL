{
 "cells": [
  {
   "cell_type": "markdown",
   "id": "e030c99c",
   "metadata": {},
   "source": [
    "# 공분산 행렬이란?\n",
    "- 각 feature의 변동이 얼마나 닮았는지 파악한다.\n",
    "- symmetric metric이다.(대칭성을 가진 메트릭)\n",
    "- 닮은 정도를 보기 위해서 \"내적\"이 필요하다.\n",
    "- 내적: 피처 간의 닮은 정도(각 피처에서 평균값을 뺀것들의 각 값을, 비교하려는 값들끼리 뺀 값이 닮은 정도이다.)\n",
    "- 코변이언스(covariance)메트릭스: 통계와 머신러닝에서 두 변수 간의 관계(공분산)를 나타내는 지표로, 두 변수의 상관된 변동성을 측정하는 데 사용\n",
    "- 수학적 의미: 선형변환(shearing)\n",
    "- 선형변환: normal distribution을 shearing(잡아당기다) 해준 것.\n",
    "\n",
    "\n",
    "## 공분산 행열의 eigenvector\n",
    "- 선형 변환의 주축은 eigenvector라고 부른다.\n",
    "- 주축: 선형 변환을 했을 때 크기만 바뀌고 방향은 바뀌지 않는 벡터\n",
    "- 데이터의 구조를 잘 살려주면서 차원 감소하기 위해선 정사영 후의 데이터 분포의 분산이 가장 큰 것이 좋다.\n",
    "- 그러기 위해선 공분산 행렬을 통해 선형변환 할 때의 주축에 대해 정사영 하는 것이 제일 좋다.\n",
    "\n",
    "\n",
    "## 공분산 행렬의 의미 영상\n",
    "https://www.youtube.com/watch?v=jNwf-JUGWgg"
   ]
  },
  {
   "cell_type": "code",
   "execution_count": null,
   "id": "42aa934e",
   "metadata": {},
   "outputs": [],
   "source": []
  }
 ],
 "metadata": {
  "kernelspec": {
   "display_name": "Jang",
   "language": "python",
   "name": "myenv"
  },
  "language_info": {
   "codemirror_mode": {
    "name": "ipython",
    "version": 3
   },
   "file_extension": ".py",
   "mimetype": "text/x-python",
   "name": "python",
   "nbconvert_exporter": "python",
   "pygments_lexer": "ipython3",
   "version": "3.12.6"
  }
 },
 "nbformat": 4,
 "nbformat_minor": 5
}
