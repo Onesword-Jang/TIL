{
 "cells": [
  {
   "cell_type": "markdown",
   "id": "08534fc7",
   "metadata": {},
   "source": [
    "- 파라미터란?\n",
    "\n",
    "- 클러스팅이란?\n",
    "\n",
    "- 상관계수: 상관관계가 높은 변수일수록 다중공선성 문제가 생긴다.\n",
    "\n",
    "- Regularization(정규화): 복잡성을 조절하여 과적합(overfitting)을 방지하는 기법\n"
   ]
  }
 ],
 "metadata": {
  "kernelspec": {
   "display_name": "Jang",
   "language": "python",
   "name": "myenv"
  },
  "language_info": {
   "codemirror_mode": {
    "name": "ipython",
    "version": 3
   },
   "file_extension": ".py",
   "mimetype": "text/x-python",
   "name": "python",
   "nbconvert_exporter": "python",
   "pygments_lexer": "ipython3",
   "version": "3.12.6"
  }
 },
 "nbformat": 4,
 "nbformat_minor": 5
}
