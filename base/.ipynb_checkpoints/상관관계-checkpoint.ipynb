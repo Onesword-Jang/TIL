{
 "cells": [
  {
   "cell_type": "markdown",
   "id": "cbe4c323",
   "metadata": {},
   "source": [
    "# 상관관계\n",
    "- 상관관계가 높다는 것은 두 변수 간의 값이 서로 강하게 연관되어 변화할 때를 의미\n",
    "- 상관계수: pandas 라이브러리에서 corr() 함수를 사용해 상관계수를 구할 수 있다.\n",
    "- 상관행렬: pandas 라이브러리에서 corr() 함수를 사용해 상관계수를 구할 수 있다.\n",
    "- 분산 팽창 계수: statsmodels 라이브러리의 variance_inflation_factor 함수를 사용하여 VIF를 계산할 수 있다.(보통 회귀 모델의 입력변수에 대해 VIF를 계산.), 필요시 VIF값을 가진 변수를 제거해 다중공선성을 해결"
   ]
  },
  {
   "cell_type": "code",
   "execution_count": null,
   "id": "256accf6",
   "metadata": {},
   "outputs": [],
   "source": [
    "import pandas as pd\n",
    "import seaborn as sns\n",
    "import matplotlib.pyplot as plt\n",
    "\n",
    "# 데이터프레임 생성\n",
    "df = pd.DataFrame(data)\n",
    "\n",
    "# 상관계수 계산\n",
    "corr_matrix = df.corr()\n",
    "\n",
    "# 히트맵 시각화\n",
    "sns.heatmap(corr_matrix, annot=True, cmap=\"coolwarm\")\n",
    "plt.show()\n"
   ]
  },
  {
   "cell_type": "code",
   "execution_count": null,
   "id": "d7808c0a",
   "metadata": {},
   "outputs": [],
   "source": [
    "from statsmodels.stats.outliers_influence import variance_inflation_factor\n",
    "from sklearn.preprocessing import StandardScaler\n",
    "\n",
    "# 데이터를 스케일링하고 VIF 계산\n",
    "scaler = StandardScaler()\n",
    "X_scaled = scaler.fit_transform(df)\n",
    "vif = [variance_inflation_factor(X_scaled, i) for i in range(X_scaled.shape[1])]\n",
    "\n",
    "# VIF 결과 보기\n",
    "vif_data = pd.DataFrame({\"Feature\": df.columns, \"VIF\": vif})\n",
    "print(vif_data)\n"
   ]
  },
  {
   "cell_type": "code",
   "execution_count": null,
   "id": "8616c21d",
   "metadata": {},
   "outputs": [],
   "source": []
  }
 ],
 "metadata": {
  "kernelspec": {
   "display_name": "Jang",
   "language": "python",
   "name": "myenv"
  },
  "language_info": {
   "codemirror_mode": {
    "name": "ipython",
    "version": 3
   },
   "file_extension": ".py",
   "mimetype": "text/x-python",
   "name": "python",
   "nbconvert_exporter": "python",
   "pygments_lexer": "ipython3",
   "version": "3.12.6"
  }
 },
 "nbformat": 4,
 "nbformat_minor": 5
}
