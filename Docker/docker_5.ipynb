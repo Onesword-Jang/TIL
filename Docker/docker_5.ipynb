{
 "cells": [
  {
   "cell_type": "markdown",
   "metadata": {},
   "source": [
    "# 5-1 Docker Volume\n",
    "- 특징\n",
    "    - 컨테이너만 사용하는 것과 달리 종료 후 데이터가 남음\n",
    "    - 여러 컨테이너가 같은 데이터 사용 가능\n",
    "    - 백업 및 옭기긱 쉬움\n",
    "    - 코드를 바꿔도 데이터는 유지\n",
    "\n",
    "- bind mount\n",
    "    - 특정 폴더나 파일을 컨테이너 안에 직접 쓸 수 있게 해준다. \n",
    "    - 폴더나 파일을 골라서 Docker 컨테이너에 붙여넣는 것과 비슷\n",
    "    - 절대 경로\n",
    "\n",
    "- tmpfs mount\n",
    "    - 컴퓨터 메모리를 사용\n",
    "    - 일시적 데이터 저장 (영구x)\n",
    "    - 컨테이너끼리 공유 X"
   ]
  },
  {
   "cell_type": "markdown",
   "metadata": {},
   "source": [
    "# 5-2 Docker Network/컨테이너 네트워크 모델(CNM)\n",
    "- 도커 네트워크는 도커 컨테이너끼리 서로 통신할 수 있게 도와준다.\n",
    "- 하나의 샌드박스 안에는 여러개의 엔드포인트가 있을 수 있다.\n",
    "- 여러개의 네트워크가 연결 될 수 있다.\n",
    "- 요소\n",
    "    - 샌드 박스: 컨테이너를 외부 세계로부터 완전히 분리하는 역할\n",
    "    - 엔드 포인트: 외부세계와 샌드박스의 연결점\n",
    "    - 네트워크: 엔드 포인트에서 다른 엔드 포인트로 즉, 컨테이너에서 다른 컨테이너로 데이터를 보내는 길\n",
    "\n",
    "- 종류\n",
    "    - 브리지 네트워크: 기본 네트워크로 한 컴퓨터 안에서 여러 컨테이너가 서로 통신 (포트 맵핑을 사용하면 외부에서도 컨테이너로 접근 가능)\n",
    "    - 공용 네트워크: 호스트 네트워크를 사용해 컨테이너가 직접 우리 컴퓨터의 네트워크를 쓰게 하는 방법\n",
    "    - 사설 네트워크: 컨테이너끼리만 통신할 수 있는 네트워크(외부와 격리)"
   ]
  },
  {
   "cell_type": "markdown",
   "metadata": {},
   "source": [
    "# 5-3 Docker Image 심화\n",
    "- 도커 허브 이용 방법\n",
    "    - 로그인\n",
    "    - 이미지 pull\n",
    "    - 태그를 붙여 push\n",
    "        - docker image {tag nginx:latest} {username}/{nginx-test:1.0 레포 이름: 버젼} \n",
    "        - docker push {username}/nginx-test:1.0\n",
    "    - 도커 허브에서 확인/docker images\n",
    "    - 작업이 끝나면 삭제\n",
    "        - docker image rm {username}/nginx-test:1.0\n",
    "        - docker container rm nginx-test --force\n",
    "        - docker image rm nginx-test:1.0 --force\n",
    "    - 레포지토리에서 가져오기\n",
    "        - docker pull {username}/nginx-test:1.0"
   ]
  }
 ],
 "metadata": {
  "language_info": {
   "name": "python"
  }
 },
 "nbformat": 4,
 "nbformat_minor": 2
}
