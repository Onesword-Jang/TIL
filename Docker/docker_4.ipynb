{
 "cells": [
  {
   "cell_type": "markdown",
   "metadata": {},
   "source": [
    "# 4-1 AWS 활용\n",
    "- 아마존의 클라우딩 컴퓨팅 플랫폼으로 데이터 센터이다.\n",
    "- 가입\n",
    "- 사용 방법\n",
    "\n",
    "\n",
    "# 4-2 github 레포 활용\n",
    "- 생성\n",
    "- 설정\n",
    "    - Secrets and variables => SSH_KEY 이름으로 PEN파일 내용 복붙, SSH_HOST 이름으로 aws 인스턴스의 public IP 복붙\n",
    "- github actions workflow 설정\n",
    "    - .github/workflow/deploy.yml 생성\n"
   ]
  }
 ],
 "metadata": {
  "language_info": {
   "name": "python"
  }
 },
 "nbformat": 4,
 "nbformat_minor": 2
}
